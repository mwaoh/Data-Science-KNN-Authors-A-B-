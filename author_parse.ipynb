{
  "cells": [
    {
      "cell_type": "code",
      "execution_count": null,
      "id": "700d9d15-1066-435b-912b-b4af255060e2",
      "metadata": {
        "id": "700d9d15-1066-435b-912b-b4af255060e2"
      },
      "outputs": [],
      "source": [
        "from bs4 import BeautifulSoup\n",
        "import re\n",
        "import nltk\n",
        "import pandas as pd\n",
        "from nltk.corpus import stopwords\n",
        "from nltk.tokenize import word_tokenize\n",
        "from nltk.stem import PorterStemmer\n",
        "import string\n",
        "import requests\n",
        "nltk.download('stopwords')\n",
        "nltk.download('punkt')\n",
        "\n",
        "class TextProcessor:\n",
        "  def __init__(self, url, output_file):\n",
        "    self.url = url\n",
        "    self.output_file = output_file\n",
        "\n",
        "  def extract_text_from_html_file(self, content):\n",
        "      soup = BeautifulSoup(content, 'html.parser')\n",
        "      # Extract text from all paragraphs (you can adjust based on your HTML structure)\n",
        "      paragraphs = soup.find_all(['p', 'div'])\n",
        "      text = ' '.join([p.get_text(separator=' ') for p in paragraphs])\n",
        "      return text\n",
        "\n",
        "  def clean_text(self, text):\n",
        "      # Remove HTML tags and attributes\n",
        "      text = re.sub(r'<[^>]+>', '', text)\n",
        "\n",
        "      # Remove non-alphanumeric characters\n",
        "      text = re.sub(r'\\W', ' ', text)\n",
        "\n",
        "      # Convert to lowercase\n",
        "      text = text.lower()\n",
        "\n",
        "      # Remove stopwords\n",
        "      stop_words = set(stopwords.words('english'))\n",
        "      word_tokens = word_tokenize(text)\n",
        "      text = ' '.join([word for word in word_tokens if word.lower() not in stop_words])\n",
        "\n",
        "      # Remove punctuation\n",
        "      text = text.translate(str.maketrans(\"\", \"\", string.punctuation))\n",
        "\n",
        "      # Stemming\n",
        "      ps = PorterStemmer()\n",
        "      text = ' '.join([ps.stem(word) for word in word_tokens])\n",
        "\n",
        "      return text\n",
        "\n",
        "  def save_cleaned_text_to_csv(self, cleaned_text, output_csv_path):\n",
        "      # Split the cleaned text into a list of words\n",
        "      words = cleaned_text.split()\n",
        "\n",
        "      # Create a DataFrame with word counts\n",
        "      word_counts = pd.Series(words).value_counts().reset_index()\n",
        "      word_counts.columns = ['Word', 'Frequency']\n",
        "\n",
        "      # Save the DataFrame to a CSV file\n",
        "      word_counts.to_csv(output_csv_path, index=False)\n",
        "\n",
        "  def main(self):\n",
        "\n",
        "      # Extract text from HTML file\n",
        "      content = requests.get(self.url).text\n",
        "      html_text = self.extract_text_from_html_file(content)\n",
        "\n",
        "      # Clean the text\n",
        "      cleaned_text = self.clean_text(html_text)\n",
        "\n",
        "      # Save cleaned text to a CSV file\n",
        "      self.save_cleaned_text_to_csv(cleaned_text, self.output_file)"
      ]
    },
    {
      "cell_type": "markdown",
      "id": "398e00ba-aa1e-4b8f-b6bf-b5a9d4db2bf3",
      "metadata": {
        "id": "398e00ba-aa1e-4b8f-b6bf-b5a9d4db2bf3"
      },
      "source": [
        "**AUTHOR A**"
      ]
    },
    {
      "cell_type": "code",
      "execution_count": null,
      "id": "b7f5a957-4bb4-4e31-9b1b-fd4d05c41970",
      "metadata": {
        "id": "b7f5a957-4bb4-4e31-9b1b-fd4d05c41970"
      },
      "outputs": [],
      "source": [
        "tp = TextProcessor('https://cs.indstate.edu/~cs40143/authors/a1.txt', '/authors/a1.csv')\n",
        "tp.main()"
      ]
    },
    {
      "cell_type": "code",
      "execution_count": null,
      "id": "0267dcea-95d6-4779-88ad-0f6f78ea99bf",
      "metadata": {
        "id": "0267dcea-95d6-4779-88ad-0f6f78ea99bf"
      },
      "outputs": [],
      "source": [
        "tp = TextProcessor('https://cs.indstate.edu/~cs40143/authors/a2.txt', '/authors/a2.csv')\n",
        "tp.main()"
      ]
    },
    {
      "cell_type": "code",
      "execution_count": null,
      "id": "893bb463-575a-4836-bab5-144ec1ce15c3",
      "metadata": {
        "id": "893bb463-575a-4836-bab5-144ec1ce15c3"
      },
      "outputs": [],
      "source": [
        "tp = TextProcessor('https://cs.indstate.edu/~cs40143/authors/a3.txt', '/authors/a3.csv')\n",
        "tp.main()"
      ]
    },
    {
      "cell_type": "code",
      "execution_count": null,
      "id": "8a0479f5-e9dc-4dcb-a1cd-184c70a93b31",
      "metadata": {
        "id": "8a0479f5-e9dc-4dcb-a1cd-184c70a93b31"
      },
      "outputs": [],
      "source": [
        "tp = TextProcessor('https://cs.indstate.edu/~cs40143/authors/a4.txt', '/authors/a4.csv')\n",
        "tp.main()"
      ]
    },
    {
      "cell_type": "code",
      "execution_count": null,
      "id": "d38ef132-9683-4fe7-93fe-17756a19e9bd",
      "metadata": {
        "id": "d38ef132-9683-4fe7-93fe-17756a19e9bd"
      },
      "outputs": [],
      "source": [
        "tp = TextProcessor('https://cs.indstate.edu/~cs40143/authors/a5.txt', '/authors/a5.csv')\n",
        "tp.main()"
      ]
    },
    {
      "cell_type": "code",
      "execution_count": null,
      "id": "7a0c62b4-5c0a-43b2-9f35-ef1f94993780",
      "metadata": {
        "id": "7a0c62b4-5c0a-43b2-9f35-ef1f94993780"
      },
      "outputs": [],
      "source": [
        "tp = TextProcessor('https://cs.indstate.edu/~cs40143/authors/ua.txt', '/authors/ua.csv')\n",
        "tp.main()"
      ]
    },
    {
      "cell_type": "markdown",
      "id": "c46d8dca-2d14-47df-b6cd-1bdef2ed6b3d",
      "metadata": {
        "id": "c46d8dca-2d14-47df-b6cd-1bdef2ed6b3d"
      },
      "source": [
        "**Author B**"
      ]
    },
    {
      "cell_type": "code",
      "execution_count": null,
      "id": "970f584b-c622-4d88-b14f-e0ea6310338f",
      "metadata": {
        "id": "970f584b-c622-4d88-b14f-e0ea6310338f"
      },
      "outputs": [],
      "source": [
        "tp = TextProcessor('https://cs.indstate.edu/~cs40143/authors/b1.txt', '/authors/b1.csv')\n",
        "tp.main()"
      ]
    },
    {
      "cell_type": "code",
      "execution_count": null,
      "id": "cd798f70-f246-4739-b425-d3356d1581b1",
      "metadata": {
        "id": "cd798f70-f246-4739-b425-d3356d1581b1"
      },
      "outputs": [],
      "source": [
        "tp = TextProcessor('https://cs.indstate.edu/~cs40143/authors/b2.txt', '/authors/b2.csv')\n",
        "tp.main()"
      ]
    },
    {
      "cell_type": "code",
      "execution_count": null,
      "id": "dd9a02b4-b146-4d2e-a3ae-fc51a6494e08",
      "metadata": {
        "id": "dd9a02b4-b146-4d2e-a3ae-fc51a6494e08"
      },
      "outputs": [],
      "source": [
        "tp = TextProcessor('https://cs.indstate.edu/~cs40143/authors/b3.txt', '/authors/b3.csv')\n",
        "tp.main()"
      ]
    },
    {
      "cell_type": "code",
      "execution_count": null,
      "id": "baa2814a-b54a-4097-bae6-b9ce4af4a598",
      "metadata": {
        "id": "baa2814a-b54a-4097-bae6-b9ce4af4a598"
      },
      "outputs": [],
      "source": [
        "tp = TextProcessor('https://cs.indstate.edu/~cs40143/authors/b4.txt', '/authors/b4.csv')\n",
        "tp.main()"
      ]
    },
    {
      "cell_type": "code",
      "execution_count": null,
      "id": "7fc6c5c9-c4f4-4bfb-85e0-3b941e76fc73",
      "metadata": {
        "id": "7fc6c5c9-c4f4-4bfb-85e0-3b941e76fc73"
      },
      "outputs": [],
      "source": [
        "tp = TextProcessor('https://cs.indstate.edu/~cs40143/authors/b5.txt', '/authors/b5.csv')\n",
        "tp.main()"
      ]
    },
    {
      "cell_type": "code",
      "execution_count": null,
      "id": "909955b8-fdc0-4f72-b792-ec0866ee5f67",
      "metadata": {
        "id": "909955b8-fdc0-4f72-b792-ec0866ee5f67"
      },
      "outputs": [],
      "source": [
        "tp = TextProcessor('https://cs.indstate.edu/~cs40143/authors/ub.txt', '/authors/ub.csv')\n",
        "tp.main()"
      ]
    }
  ],
  "metadata": {
    "kernelspec": {
      "display_name": "Python 3 (ipykernel)",
      "language": "python",
      "name": "python3"
    },
    "language_info": {
      "codemirror_mode": {
        "name": "ipython",
        "version": 3
      },
      "file_extension": ".py",
      "mimetype": "text/x-python",
      "name": "python",
      "nbconvert_exporter": "python",
      "pygments_lexer": "ipython3",
      "version": "3.10.2"
    },
    "colab": {
      "provenance": []
    }
  },
  "nbformat": 4,
  "nbformat_minor": 5
}